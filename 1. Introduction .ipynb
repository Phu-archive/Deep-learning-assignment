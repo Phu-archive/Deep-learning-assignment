{
 "cells": [
  {
   "cell_type": "markdown",
   "metadata": {},
   "source": [
    "# Introduction \n",
    "\n",
    "## What is machine learning ?\n",
    "\n",
    "For me, the best definition for machine learning would be: \n",
    "\n",
    "\n",
    "> \"Machine Learning gives computers the ability to learn without being explicitly programmed.\"\n",
    ">\n",
    "> Arthur Samuel, 1959\n",
    "\n",
    "\n",
    "To be more specific, I will give you the examples of different types of learning algorithms and some examples. \n",
    "\n",
    "## How does machine learning works ?\n",
    "\n",
    "When we were young, we were learning about the numbers and alphabets; in order to idenitfy the correct numbers and alphabets, we had to go through practice exercise and seeing different people writing in different styles. \n",
    "\n",
    "Similar to how people learn, machines use examples ( a lot of them, too ) in order to find some patterns in the examples.\n",
    "\n",
    "We use examples to \"fit\" the model.\n",
    "\n",
    "<img src=\"img/Section1img/AndrewNg.png\">\n",
    "Here is the picture used in Andrew Ng's lecture\n",
    "\n",
    "If you can't understand this you may trying to look at the examples from difference sections.\n",
    "\n",
    "## Supervised Learning\n",
    "\n",
    "Supervised Learning is the first type of learning algorithm that we are going to talk about. It has 2 components : training set and label. Label is the correct answer, for example, in digit classificiation, the training set is the pictures of handwritten digit and the label is that number.\n",
    "\n",
    "In this type of learning, the algorithm will know the correct answer before and it will try to create the model that will give out the correct answer provided the input.\n",
    "\n",
    "### Examples\n",
    "\n",
    "- Trying to identify the handwritten digits.\n",
    "\n",
    "- Predicting house prices.\n",
    "\n",
    "- Identify objects in images.\n",
    "\n",
    "- Iris Data Set. \n",
    "\n",
    "- Finding the best-fit for graphs.\n",
    "\n",
    "<img src=\"img/Section1img/Supervised-learning1.jpeg\" style=\"width:450px;height:300px;\">\n",
    "\n",
    "With the purple boundary, we can find the class of green dot (which will be blue).\n",
    "\n",
    "The color of red and blue represent difference classes data can be, and all the dots (both red and blue) will be the data that will give the clue for our algorithm to find the best purple boundary.\n",
    "\n",
    "## What will the dataset contains?\n",
    "\n",
    "I will give you the example of one dataset called [MNIST](http://yann.lecun.com/exdb/mnist/). You don't have to understand the python script here because I will talk about it more in Session 3 and Session 5."
   ]
  },
  {
   "cell_type": "code",
   "execution_count": 7,
   "metadata": {
    "collapsed": true
   },
   "outputs": [],
   "source": [
    "# First we import the libaries needed for visualizing MNIST dataset.\n",
    "\n",
    "import matplotlib.pyplot as plt\n",
    "from tensorflow.examples.tutorials.mnist import input_data\n",
    "import numpy as np\n",
    "\n",
    "%matplotlib inline  "
   ]
  },
  {
   "cell_type": "code",
   "execution_count": 3,
   "metadata": {
    "collapsed": false
   },
   "outputs": [
    {
     "name": "stdout",
     "output_type": "stream",
     "text": [
      "Successfully downloaded train-images-idx3-ubyte.gz 9912422 bytes.\n",
      "Extracting MNIST_data/train-images-idx3-ubyte.gz\n",
      "Successfully downloaded train-labels-idx1-ubyte.gz 28881 bytes.\n",
      "Extracting MNIST_data/train-labels-idx1-ubyte.gz\n",
      "Successfully downloaded t10k-images-idx3-ubyte.gz 1648877 bytes.\n",
      "Extracting MNIST_data/t10k-images-idx3-ubyte.gz\n",
      "Successfully downloaded t10k-labels-idx1-ubyte.gz 4542 bytes.\n",
      "Extracting MNIST_data/t10k-labels-idx1-ubyte.gz\n"
     ]
    }
   ],
   "source": [
    "# Then we load the dataset\n",
    "\n",
    "mnist = input_data.read_data_sets(\"MNIST_data/\", one_hot=True, reshape=False)"
   ]
  },
  {
   "cell_type": "code",
   "execution_count": 8,
   "metadata": {
    "collapsed": false
   },
   "outputs": [
    {
     "name": "stdout",
     "output_type": "stream",
     "text": [
      "label: 7\n"
     ]
    },
    {
     "data": {
      "image/png": "[encoded data removed]",
      "text/plain": [
       "<matplotlib.figure.Figure at 0x7f6c3017ba90>"
      ]
     },
     "metadata": {},
     "output_type": "display_data"
    }
   ],
   "source": [
    "# Then we get the first image and label from the dataset\n",
    "\n",
    "img1 = mnist.train.images[0]\n",
    "img1 = img1.reshape((28,28))\n",
    "plt.imshow(img1, cmap='Greys')\n",
    "\n",
    "print('label:', np.argmax(mnist.test.labels[0]))\n"
   ]
  },
  {
   "cell_type": "markdown",
   "metadata": {},
   "source": [
    "## Unsupervised Learning\n",
    "\n",
    "Unlike supervised learning, unsupervised learning doesn't require a label. This may sound a little weird at first but given the examples, you will understand more.\n",
    "\n",
    "### Examples\n",
    "\n",
    "#### Cocktail party problem\n",
    "\n",
    "Imagine we are in the party with other people. Although we don't know who they are, we can still differentiate the sounds of different people. \n",
    "\n",
    "This can be call unsupervised learning because the learning algorithm doesn't need labels, what it only needs is just the mixed sound of people talking together.\n",
    "\n",
    "You can try this problem here : http://research.ics.aalto.fi/ica/cocktail/cocktail_en.cgi\n",
    "\n",
    "Unsupervised learning can be viewed as \"grouping the data together\" for example, k-nearest neighbors algorithm.\n",
    "\n",
    "\n",
    "## Classification problem\n",
    "\n",
    "It is the problem when we want to identify different data and seperate them to diffent catagories.\n",
    "\n",
    "Handwritten digits recognition problem is one type of Supervised Classification problem.\n",
    "\n",
    "The way algorithm works is to find the boundary that will differentiate different classes, just like green dot example !!\n",
    "\n",
    "### Features\n",
    "\n",
    "Feature is the property of the item we want to classify. \n",
    "\n",
    "For example, when we want to classify the tumor, the data may have the different features, such as tumor size and number of tumors. \n",
    "\n",
    "<img src=\"img/Section1img/Supervised-learning2.jpeg\" style=\"width:425px;height:300px;\">\n",
    "\n",
    "If our client (green dot) has certain size and number of tumors and red dots represent other people's tumors that are benign and blue dots represent other people's tumors that are malignant, we can know that our client's tumors are malignant using the purple boundary. \n",
    "\n",
    "\n",
    "### Examples of classification problem\n",
    "\n",
    "- Finding whether the tumor is malignant or benign ?\n",
    "\n",
    "- Whether the e-mail is spam ?\n",
    "\n",
    "- Speech recognition.\n",
    "\n",
    "## Regression problem\n",
    "\n",
    "It is the problem when we output the number.\n",
    "\n",
    "For example, predicting the house price using the method of finding the best fit for the graph(this can be called linear regression. We will take a look at this at Section 5).\n",
    "\n",
    "<img src=\"img/Section1img/Regression_problem.jpeg\" style=\"width:425px;height:300px;\">\n",
    "\n",
    "Using only one feature, we can predict the house prices given there is a correlation between the house price and the number of rooms."
   ]
  }
 ],
 "metadata": {
  "kernelspec": {
   "display_name": "Python 3",
   "language": "python",
   "name": "python3"
  },
  "language_info": {
   "codemirror_mode": {
    "name": "ipython",
    "version": 3
   },
   "file_extension": ".py",
   "mimetype": "text/x-python",
   "name": "python",
   "nbconvert_exporter": "python",
   "pygments_lexer": "ipython3",
   "version": "3.5.2"
  }
 },
 "nbformat": 4,
 "nbformat_minor": 1
}
