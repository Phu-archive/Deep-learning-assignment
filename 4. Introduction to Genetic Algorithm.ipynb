{
 "cells": [
  {
   "cell_type": "markdown",
   "metadata": {},
   "source": [
    "# Genetic Algorithm\n",
    "\n",
    "### (This section will based on Daniel Shiffman's book called The nature of code and Ai Techniques For Game Programming by Mat Buckland)\n",
    "\n",
    "Genetic Algorithm is algorithm that replicate the evolution process on earth. \n",
    "\n",
    "## What do animal do long time ago?\n",
    "\n",
    "1. There is popultaion of animal X.\n",
    "2. Each of them have genes that will effect their characteristic.\n",
    "3. Their characteristic can causes them to have difference Fitness(rank among group)\n",
    "4. The higher the fitness the higher the chance of mating.\n",
    "5. When they mate they create the offsprings.\n",
    "7. Offsprings' gene may mutate a little.\n",
    "6. This process repeats ,and hopefully the fitness will go up.\n",
    "\n",
    "## Looking at the infinite monkey theorem\n",
    "\n",
    "This theorem is about monkey that type on a keyboard randomly, and some how they will finish the complete stories of William Shakespeare.\n",
    "\n",
    "Lets just make this monkey type just the sentences in [Macbeth](http://shakespeare.mit.edu/macbeth/full.html) : \"fair is foul, and foul is fair\" The monkey will type randomly and we hopefully get the sentence."
   ]
  },
  {
   "cell_type": "code",
   "execution_count": 4,
   "metadata": {
    "collapsed": false
   },
   "outputs": [],
   "source": [
    "import random\n",
    "import string\n",
    "# it will help us random the sentence.\n",
    "\n",
    "# First we have to get the length of the sentence\n",
    "\n",
    "# I have to edit it because of the reason that I will discuss next\n",
    "sentence = \"fair is foul and foul is fair\"\n",
    "len_sentence = len(sentence)\n",
    "\n",
    "# We need to get all the alphabet characters and space and store in string.\n",
    "characters = string.ascii_lowercase + \" \" "
   ]
  },
  {
   "cell_type": "code",
   "execution_count": 5,
   "metadata": {
    "collapsed": true
   },
   "outputs": [],
   "source": [
    "# We create function that will create random string with particular length.\n",
    "def rand_string(character_pool, length):\n",
    "    size_of_pool = len(character_pool)\n",
    "    result = []\n",
    "    # We have run the loop number-of-length-we-want time so that the result have the same length as what we want\n",
    "    for times in range(length):\n",
    "        # We are trying to randomly pick the character from pool of characters.\n",
    "        rand_index = random.randint(0, size_of_pool-1)\n",
    "        result.append(character_pool[rand_index])\n",
    "    # Then we join the character in list together.\n",
    "    return ''.join(result)"
   ]
  },
  {
   "cell_type": "code",
   "execution_count": 6,
   "metadata": {
    "collapsed": false
   },
   "outputs": [
    {
     "name": "stdout",
     "output_type": "stream",
     "text": [
      "bfllzmdtxgktosmfzusdpgfxmtw o\n",
      "dhyacffwfeomgmmhhdycocodfmnps\n",
      "varug fsiyy zxolbujdrhxvrbawg\n",
      "cw bebekewmxltnwtypolabyvuedi\n",
      "iwqjhuiizulpvokavfnqmeoxtlmwb\n",
      "soqnqfvwojdrxytdaqjjxlvylcnoy\n",
      "puidwhbklinogjsawwezyt l qtcl\n",
      "zjgsrckuodyinakavmyxcwhrzqkog\n",
      "nv lcgkezlwfthryxqguqbqmzcrgj\n",
      "lstmulud eprrb yoznbjpzsdiogi\n",
      "zgszbsuexq ajekwteuvk ybiqpnt\n",
      "ssf llysgzmyggmefyonigjhriifl\n",
      " iptbth jvzoarzjjuzwncxzgkmnb\n",
      "brrtx qphtwwjqfgjqncqpfdcsecu\n",
      "ktfdttoxoqfstzjomgtjwpmsqrg a\n",
      "vztwdx icjovywajisokjv xas fc\n",
      "rfsvqfitzzoa rwrs yvcxndidctm\n",
      "aaoiavjbzrgqaanyvss oiubgpkqd\n",
      "lgsiwbbrxljresumomofbsbsqdkld\n",
      "dxz nstq rtwtowoqbnppunnoyzvs\n"
     ]
    }
   ],
   "source": [
    "# Now we run the monkey 20 times\n",
    "for i in range(20):\n",
    "    # We have to random the string.\n",
    "    print(rand_string(characters, len_sentence))"
   ]
  },
  {
   "cell_type": "code",
   "execution_count": null,
   "metadata": {
    "collapsed": true
   },
   "outputs": [],
   "source": []
  }
 ],
 "metadata": {
  "kernelspec": {
   "display_name": "Python 3",
   "language": "python",
   "name": "python3"
  },
  "language_info": {
   "codemirror_mode": {
    "name": "ipython",
    "version": 3
   },
   "file_extension": ".py",
   "mimetype": "text/x-python",
   "name": "python",
   "nbconvert_exporter": "python",
   "pygments_lexer": "ipython3",
   "version": "3.5.2"
  }
 },
 "nbformat": 4,
 "nbformat_minor": 1
}
