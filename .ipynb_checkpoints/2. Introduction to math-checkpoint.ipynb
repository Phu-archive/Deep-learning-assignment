{
 "cells": [
  {
   "cell_type": "markdown",
   "metadata": {
    "collapsed": true
   },
   "source": [
    "# Introduction to Math\n",
    "\n",
    "## Function \n",
    "\n",
    "Function is like a machine that \"change\" a set of numbers to another set of numbers(However, function can just output the same set of number). We can also call a function to act like a relation between 2 sets of numbers.\n",
    "\n",
    "## Examples\n",
    "\n",
    "Take a look at this picture: \n",
    "\n",
    "<img src=\"img/Section2img/Function.jpeg\" style=\"width:450px;height:300px;\">\n",
    "\n",
    "if the input is a set of integer from 1 to 10 and the function would transform the input set by multiplying eche element in input set by 2, the output set would be {2,4,6,8,10,12,14,16,18,20}. We can write the formular to show the relation between input and output. In this case the function symbol will be:\n",
    "\n",
    "$ f(x) = 2x $\n",
    "\n",
    "## Drawing a graph\n",
    "\n",
    "The purpose of graph is to visualize the relation between the input and output. We usually plot the graphs as dots correspond to the input and outputs. The height of dots from the x-axis(horizontal axis) will be the output value and the distance from the y-axis(verticle axis) will be the input value.\n",
    "\n",
    "I will uses python to help me draw the graph. If you don't understand, you can go to session 3."
   ]
  },
  {
   "cell_type": "code",
   "execution_count": 1,
   "metadata": {
    "collapsed": true
   },
   "outputs": [],
   "source": [
    "# Import matplotlib to draw the graph\n",
    "\n",
    "import matplotlib.pyplot as plt\n",
    "%matplotlib inline  "
   ]
  },
  {
   "cell_type": "code",
   "execution_count": 5,
   "metadata": {
    "collapsed": false
   },
   "outputs": [
    {
     "data": {
      "image/png": "[encoded data removed]",
      "text/plain": [
       "<matplotlib.figure.Figure at 0x7f7216666cf8>"
      ]
     },
     "metadata": {},
     "output_type": "display_data"
    }
   ],
   "source": [
    "# Then we will draw a graph\n",
    "\n",
    "# Input of the graph\n",
    "input_graph = [1,2,3,4,5,6,7,8,9,10]\n",
    "\n",
    "# Using Lambda\n",
    "function = lambda x : x*2\n",
    "\n",
    "# Applying the function to the input to get output\n",
    "output_graph = list(map(function, input_graph))\n",
    "\n",
    "plt.plot(input_graph, output_graph, 'ro')\n",
    "\n",
    "plt.xlabel('Inputs')\n",
    "plt.ylabel('Outputs')\n",
    "\n",
    "plt.axis([0, 15, 0, 25])\n",
    "plt.show()"
   ]
  },
  {
   "cell_type": "markdown",
   "metadata": {},
   "source": [
    "How about having a input set to be real numbers and apply them to $ f(x) = 2x $ ?"
   ]
  },
  {
   "cell_type": "code",
   "execution_count": 13,
   "metadata": {
    "collapsed": false
   },
   "outputs": [
    {
     "data": {
      "image/png": "[encoded data removed]",
      "text/plain": [
       "<matplotlib.figure.Figure at 0x7f72162e87f0>"
      ]
     },
     "metadata": {},
     "output_type": "display_data"
    }
   ],
   "source": [
    "# Input of the graph\n",
    "input_graph = list(range(0,15))\n",
    "\n",
    "# There are infinite number of real number, so what we can do is to connect the dots. \n",
    "# in order to make the curve, the distance between the dots should be small.\n",
    "# So I just telling matplotlib to draw the line using only range between 0 and 15\n",
    "\n",
    "# Using Lambda\n",
    "function = lambda x : x*2\n",
    "\n",
    "# Applying the function to the input to get output\n",
    "output_graph = list(map(function, input_graph))\n",
    "\n",
    "# I just removed the 'ro' in order to make it looks continuous.\n",
    "plt.plot(input_graph, output_graph)\n",
    "\n",
    "plt.xlabel('Inputs')\n",
    "plt.ylabel('Outputs')\n",
    "\n",
    "plt.axis([0, 15, 0, 25])\n",
    "plt.show()"
   ]
  },
  {
   "cell_type": "markdown",
   "metadata": {},
   "source": [
    "## List of useful functions\n",
    "\n",
    "## 1. Linear Function\n",
    "\n",
    "the shape of it is just a steight line\n",
    "\n",
    "### Properties \n",
    "\n",
    "The useful form of the linear equation would be slope and y-interception form: \n",
    "\n",
    "$$ f(x) = mx + c $$\n",
    "\n",
    "Where m denotes as slope of the graph and c denotes as y-intercept of the graph.\n",
    "\n",
    "### What is the slopes?\n",
    "\n",
    "Slope is the value that tells us how steep the graph is or the more useful definition: how much y changes when x changes in certain value.\n",
    "\n",
    "#### How can we create slopes?\n",
    "\n",
    "by using this equation: $ m = \\frac{\\Delta y}{\\Delta x} $ (We call this triangle delta)\n",
    "\n",
    "delta X means the difference between two values of Xs and same as delta Y.\n",
    "\n",
    "#### Example\n",
    "\n",
    "if we got 4 set of dots : \n",
    "\n",
    "| No. of Dot | X value | Y value |\n",
    "| ---- |:------:|------:|\n",
    "| 1. | 5 | 5 |\n",
    "| 2. | 5 | 15 |\n",
    "| 3. | 5 | 5 |\n",
    "| 4. | 5 | 10 |\n",
    "\n",
    "And we want to find the slope between dot 1 and 2 and between dot 3 and 4."
   ]
  },
  {
   "cell_type": "code",
   "execution_count": null,
   "metadata": {
    "collapsed": true
   },
   "outputs": [],
   "source": []
  }
 ],
 "metadata": {
  "kernelspec": {
   "display_name": "Python 3",
   "language": "python",
   "name": "python3"
  },
  "language_info": {
   "codemirror_mode": {
    "name": "ipython",
    "version": 3
   },
   "file_extension": ".py",
   "mimetype": "text/x-python",
   "name": "python",
   "nbconvert_exporter": "python",
   "pygments_lexer": "ipython3",
   "version": "3.5.2"
  }
 },
 "nbformat": 4,
 "nbformat_minor": 1
}
