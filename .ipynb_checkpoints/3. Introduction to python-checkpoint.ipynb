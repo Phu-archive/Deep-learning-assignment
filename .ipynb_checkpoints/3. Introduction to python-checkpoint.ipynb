{
 "cells": [
  {
   "cell_type": "markdown",
   "metadata": {
    "collapsed": true
   },
   "source": [
    "# Python\n",
    "\n",
    "Python is a programming language. In this \"essay\", I am going to use python 3. \n",
    "\n",
    "Here is the logo of python.\n",
    "\n",
    "<img src=\"img/Section3img/python-logo-master-v3-TM.png\">\n",
    "\n",
    "What python and other programing language do is telling computer what to do. For example, telling computer to print certain text on screen. We are telling the steps of solving some problems. We call the steps algorithm. There are many types of algorithm, from sorting to route finding to evolving(we will look at this algorithm in the next section).\n",
    "\n",
    "## Why python?\n",
    "\n",
    "I think that python is simple yet very powerful in term of versatility. For example, we can create a webpage(you can take a look at [Django](https://www.djangoproject.com/)) or we can scrape websites(getting the website information).\n",
    "\n",
    "## Let's get started\n",
    "\n",
    "the first operation will be Print. What print does is to prind some strings(texts) on the screen. For example: "
   ]
  },
  {
   "cell_type": "code",
   "execution_count": 1,
   "metadata": {
    "collapsed": false
   },
   "outputs": [
    {
     "name": "stdout",
     "output_type": "stream",
     "text": [
      "Hi Python!!\n"
     ]
    }
   ],
   "source": [
    "print(\"Hi Python!!\")"
   ]
  },
  {
   "cell_type": "markdown",
   "metadata": {},
   "source": [
    "And we can write texts in multiple lines"
   ]
  },
  {
   "cell_type": "code",
   "execution_count": 2,
   "metadata": {
    "collapsed": false
   },
   "outputs": [
    {
     "name": "stdout",
     "output_type": "stream",
     "text": [
      "Hi Python!!\n",
      "Hey !!\n"
     ]
    }
   ],
   "source": [
    "print(\"Hi Python!!\")\n",
    "print(\"Hey !!\")"
   ]
  },
  {
   "cell_type": "markdown",
   "metadata": {},
   "source": [
    "as you can see python will execute the code from top to bottom."
   ]
  },
  {
   "cell_type": "markdown",
   "metadata": {},
   "source": [
    "### Comment\n",
    "\n",
    "Comment will be ignore by python. The way to tell whether this is a comment is #."
   ]
  },
  {
   "cell_type": "code",
   "execution_count": 20,
   "metadata": {
    "collapsed": false
   },
   "outputs": [
    {
     "name": "stdout",
     "output_type": "stream",
     "text": [
      "This is not comment\n"
     ]
    }
   ],
   "source": [
    "print(\"This is not comment\")\n",
    "# print(\"This is comment\")"
   ]
  },
  {
   "cell_type": "markdown",
   "metadata": {},
   "source": [
    "Python won't print out the second statement."
   ]
  },
  {
   "cell_type": "markdown",
   "metadata": {},
   "source": [
    "### Variable\n",
    "\n",
    "Variable is the way python stores the data. Imagine the variable is like a box where we can change things inside(technically there are some kind of variable that aren't allow us to chage the inside).\n",
    "\n",
    "For example we stores the number 10 inside the variable \"z\". We call the type of variable \"int\", which stands for integer. We can also have the variables that are decimal. We call them \"float\". And for texts, we call them string. We have to use \"\" to tell python that the variable is string."
   ]
  },
  {
   "cell_type": "code",
   "execution_count": 3,
   "metadata": {
    "collapsed": true
   },
   "outputs": [],
   "source": [
    "# Z is an int\n",
    "z = 10 \n",
    "\n",
    "# Y is float\n",
    "y = 3.14\n",
    "\n",
    "# X is string\n",
    "x = \"Hey!\""
   ]
  },
  {
   "cell_type": "markdown",
   "metadata": {},
   "source": [
    "We won't call the operator \"=\" as equal sign but we will call the an assignment operator. What it does is that it tells python to assign the data to the variable.\n",
    "\n",
    "<img src=\"img/Section3img/Assigment.jpeg\">\n",
    "\n",
    "The way we visualize the data is simply print them out.\n",
    "\n",
    "We can also assign the value in one variable to another. "
   ]
  },
  {
   "cell_type": "code",
   "execution_count": 4,
   "metadata": {
    "collapsed": false
   },
   "outputs": [
    {
     "name": "stdout",
     "output_type": "stream",
     "text": [
      "10\n",
      "3.14\n",
      "Hey!\n",
      "3.14\n"
     ]
    }
   ],
   "source": [
    "# See what is inside the variable\n",
    "print(z)\n",
    "print(y)\n",
    "print(x)\n",
    "\n",
    "# Change the variable\n",
    "z = y\n",
    "\n",
    "# Inside \"y\" is 3.14, so now z will be assigned with 3.14\n",
    "print(z)\n"
   ]
  },
  {
   "cell_type": "markdown",
   "metadata": {},
   "source": [
    "We can also do the arimatic operations with numbers. \n",
    "\n",
    "For string the only operation is only the adding operator. The result is merging the string together!!"
   ]
  },
  {
   "cell_type": "code",
   "execution_count": 6,
   "metadata": {
    "collapsed": false
   },
   "outputs": [
    {
     "name": "stdout",
     "output_type": "stream",
     "text": [
      "50\n",
      "StringString2\n"
     ]
    }
   ],
   "source": [
    "var = 20 + 30\n",
    "\n",
    "s1 = \"String\" \n",
    "s2 = \"String2\"\n",
    "var2 = s1 + s2\n",
    "\n",
    "print(var)\n",
    "print(var2)"
   ]
  },
  {
   "cell_type": "markdown",
   "metadata": {},
   "source": [
    "### Lists\n",
    "\n",
    "Lists is simply the variable type that can stores many variable with the same type. We can access every items using the index of the item, which starts with zero. \n",
    "\n",
    "For example, if we got a list of alphabet from \"a\" to \"d\", then the index of \"a\" would be 0 and \"d\" would be 3.\n",
    "\n",
    "<img src=\"img/Section3img/Lists.jpeg\">"
   ]
  },
  {
   "cell_type": "code",
   "execution_count": 29,
   "metadata": {
    "collapsed": false
   },
   "outputs": [
    {
     "name": "stdout",
     "output_type": "stream",
     "text": [
      "['A', 'B', 'C', 'D']\n",
      "C\n"
     ]
    }
   ],
   "source": [
    "# We still use \"\" to tell that the variable is string\n",
    "list_of_alphabet = ['A', 'B', 'C', 'D']\n",
    "\n",
    "# We can print the whole lists\n",
    "print(list_of_alphabet)\n",
    "\n",
    "# Access the data at index 2\n",
    "print(list_of_alphabet[2])"
   ]
  },
  {
   "cell_type": "markdown",
   "metadata": {},
   "source": [
    "We can also get the length of the list by using the function len()"
   ]
  },
  {
   "cell_type": "code",
   "execution_count": 10,
   "metadata": {
    "collapsed": false
   },
   "outputs": [
    {
     "name": "stdout",
     "output_type": "stream",
     "text": [
      "4\n"
     ]
    }
   ],
   "source": [
    "print(len(list_of_alphabet))"
   ]
  },
  {
   "cell_type": "markdown",
   "metadata": {},
   "source": [
    "When we want to add more item, we can use append(). This will add the item at the end."
   ]
  },
  {
   "cell_type": "code",
   "execution_count": 30,
   "metadata": {
    "collapsed": false
   },
   "outputs": [
    {
     "name": "stdout",
     "output_type": "stream",
     "text": [
      "['A', 'B', 'C', 'D', 'E']\n"
     ]
    }
   ],
   "source": [
    "list_of_alphabet.append('E')\n",
    "\n",
    "print(list_of_alphabet)"
   ]
  },
  {
   "cell_type": "markdown",
   "metadata": {},
   "source": [
    "Important note: string can acts like lists. The characters can be access using index. List can be also added together."
   ]
  },
  {
   "cell_type": "markdown",
   "metadata": {},
   "source": [
    "### If and Else\n",
    "\n",
    "Condition is everywhere. To represent the condition, we can use the boolean variable. Boolean variable is a variable that can have only 2 values: True and False. \n",
    "\n",
    "python will execute the statement inside \"if\" when the condition is true and vice versa."
   ]
  },
  {
   "cell_type": "code",
   "execution_count": 32,
   "metadata": {
    "collapsed": false
   },
   "outputs": [
    {
     "name": "stdout",
     "output_type": "stream",
     "text": [
      "inside if statement\n"
     ]
    }
   ],
   "source": [
    "if (1 == 1): # This always true\n",
    "    print(\"inside if statement\")\n",
    "else:\n",
    "    print(\"inside else statement\")"
   ]
  },
  {
   "cell_type": "code",
   "execution_count": 33,
   "metadata": {
    "collapsed": false
   },
   "outputs": [
    {
     "name": "stdout",
     "output_type": "stream",
     "text": [
      "inside else statement\n"
     ]
    }
   ],
   "source": [
    "if (not 1 == 1): # This always false because 1 isn't not equal to 1\n",
    "    print(\"inside if statement\")\n",
    "else:\n",
    "    print(\"inside else statement\")"
   ]
  },
  {
   "cell_type": "markdown",
   "metadata": {},
   "source": [
    "### Loop\n",
    "\n",
    "Sometimes we have to repeat certain operator. For example, we have to print out all the items in the list that have 100 items. Instead to print the item one by one like this:"
   ]
  },
  {
   "cell_type": "code",
   "execution_count": 8,
   "metadata": {
    "collapsed": false
   },
   "outputs": [
    {
     "name": "stdout",
     "output_type": "stream",
     "text": [
      "A\n",
      "B\n",
      "C\n",
      "D\n"
     ]
    }
   ],
   "source": [
    "# Print all the items in list\n",
    "\n",
    "print(list_of_alphabet[0])\n",
    "print(list_of_alphabet[1])\n",
    "print(list_of_alphabet[2])\n",
    "print(list_of_alphabet[3])"
   ]
  },
  {
   "cell_type": "markdown",
   "metadata": {},
   "source": [
    "We can use loop to help us."
   ]
  },
  {
   "cell_type": "code",
   "execution_count": 9,
   "metadata": {
    "collapsed": false
   },
   "outputs": [
    {
     "name": "stdout",
     "output_type": "stream",
     "text": [
      "A\n",
      "B\n",
      "C\n",
      "D\n"
     ]
    }
   ],
   "source": [
    "for item in list_of_alphabet:\n",
    "    print(item)"
   ]
  },
  {
   "cell_type": "markdown",
   "metadata": {},
   "source": [
    "what the for loop does is that it repeats every item in the list_of_alphabet and store it in variable \"item\". The variable \"item\" will change everytime when the loop moves to the next position of an array.\n",
    "\n",
    "If we wants to print out the number from 1 to 10, we can use range() to help us."
   ]
  },
  {
   "cell_type": "code",
   "execution_count": 11,
   "metadata": {
    "collapsed": false
   },
   "outputs": [
    {
     "name": "stdout",
     "output_type": "stream",
     "text": [
      "1\n",
      "2\n",
      "3\n",
      "4\n",
      "5\n",
      "6\n",
      "7\n",
      "8\n",
      "9\n",
      "10\n"
     ]
    }
   ],
   "source": [
    "# I use the number 11 because range() doesn'g count the last number\n",
    "for number in range(1,11):\n",
    "    print(number)"
   ]
  },
  {
   "cell_type": "markdown",
   "metadata": {},
   "source": [
    "Actually we can print the item in array using len() and range(). Since range() ignores the last number, we can loop the number from 0 to lenght of list minus 1."
   ]
  },
  {
   "cell_type": "code",
   "execution_count": 12,
   "metadata": {
    "collapsed": false
   },
   "outputs": [
    {
     "name": "stdout",
     "output_type": "stream",
     "text": [
      "A\n",
      "B\n",
      "C\n",
      "D\n"
     ]
    }
   ],
   "source": [
    "for index in range(0, len(list_of_alphabet)):\n",
    "    print(list_of_alphabet[index])"
   ]
  },
  {
   "cell_type": "markdown",
   "metadata": {},
   "source": [
    "We can do many facinating things with loop. For example one line list + loop."
   ]
  },
  {
   "cell_type": "code",
   "execution_count": 31,
   "metadata": {
    "collapsed": false
   },
   "outputs": [
    {
     "name": "stdout",
     "output_type": "stream",
     "text": [
      "[0, 2, 4, 6, 8, 10, 12, 14, 16, 18]\n",
      "[0, 2, 4, 6, 8, 10, 12, 14, 16, 18]\n"
     ]
    }
   ],
   "source": [
    "# Instead of doing like this\n",
    "\n",
    "even_number = []\n",
    "for n in range(0,10):\n",
    "    even_number.append(n * 2)\n",
    "    \n",
    "print(even_number)\n",
    "\n",
    "# we can do like this\n",
    "\n",
    "even_number = [n*2 for n in range(0,10)]\n",
    "print(even_number)"
   ]
  },
  {
   "cell_type": "markdown",
   "metadata": {},
   "source": [
    "### Function or Method\n",
    "\n",
    "When we have a piece of code that is very long and complex and we need to use it many times, we can use method to help us. When we call them, python will copy the body inside the method and replace the method itself."
   ]
  },
  {
   "cell_type": "code",
   "execution_count": 13,
   "metadata": {
    "collapsed": false
   },
   "outputs": [
    {
     "name": "stdout",
     "output_type": "stream",
     "text": [
      "A\n",
      "B\n",
      "C\n",
      "A\n",
      "B\n",
      "C\n"
     ]
    }
   ],
   "source": [
    "# The way we define method.\n",
    "\n",
    "def method():\n",
    "    print(\"A\")\n",
    "    print(\"B\")\n",
    "    print(\"C\")\n",
    "\n",
    "# call methods\n",
    "method()\n",
    "method()"
   ]
  },
  {
   "cell_type": "markdown",
   "metadata": {},
   "source": [
    "We can also pass the value though the \"parameter\" of the method."
   ]
  },
  {
   "cell_type": "code",
   "execution_count": 14,
   "metadata": {
    "collapsed": false
   },
   "outputs": [
    {
     "name": "stdout",
     "output_type": "stream",
     "text": [
      "30\n"
     ]
    }
   ],
   "source": [
    "# The parameter of this \"add\" function is number1 and number2.\n",
    "def add(number1, number2):\n",
    "    added_number = number1 + number2\n",
    "    print(added_number)\n",
    "    \n",
    "# When we call the add function\n",
    "add(10, 20)\n",
    "\n",
    "# It will print 30."
   ]
  },
  {
   "cell_type": "markdown",
   "metadata": {},
   "source": [
    "We can also make the method return the value, which can be stored in the variable or printed out to the screen."
   ]
  },
  {
   "cell_type": "code",
   "execution_count": 17,
   "metadata": {
    "collapsed": false
   },
   "outputs": [
    {
     "name": "stdout",
     "output_type": "stream",
     "text": [
      "35\n"
     ]
    }
   ],
   "source": [
    "# This \"add\" method will return the added number \n",
    "def add(number1, number2):\n",
    "    added_number = number1 + number2\n",
    "    return added_number\n",
    "\n",
    "# Store the return value in the variable called \"result\" \n",
    "result = add(15, 20)\n",
    "\n",
    "# Print out the value inside the variable \"result\"\n",
    "print(result)"
   ]
  },
  {
   "cell_type": "markdown",
   "metadata": {},
   "source": [
    "If you notice, range() len() print() are all method."
   ]
  },
  {
   "cell_type": "markdown",
   "metadata": {},
   "source": [
    "### Class and Object\n",
    "\n",
    "Thinking about the blueprint of house, we can have just only one blueprint, but we can create many houses as we want ,and we can also tweak the blueprint a little like this size of the house or the color of it in order to create distinct house. Not only house can have difference color and size but house can also have actions too. \n",
    "\n",
    "We can compare blueprint as class and houses produced by the blueprint is an object of the class. "
   ]
  },
  {
   "cell_type": "code",
   "execution_count": 22,
   "metadata": {
    "collapsed": false
   },
   "outputs": [
    {
     "name": "stdout",
     "output_type": "stream",
     "text": [
      "The color of the house1 is Blue\n",
      "The size of the house2 is 200\n",
      "The color of the house1 is Yellow\n"
     ]
    }
   ],
   "source": [
    "# Create the blue print\n",
    "class Blueprint_For_House(object):\n",
    "    # Constructor is the fucntion that will be called when we create the objects. \n",
    "    # We use this function to initalize the properties of the object by passing the value through the parameters.\n",
    "    # This is the way we define the constructor.\n",
    "    \n",
    "    # In order to access the variable inside the class we have to use self.\n",
    "    def __init__(self, size_of_house, color_of_house):\n",
    "        # We create the variable \"size\" and \"color\" and store the parameters data\n",
    "        self.size = size_of_house\n",
    "        self.color = color_of_house\n",
    "\n",
    "# This is the way we create the House object\n",
    "House1 = Blueprint_For_House(100, \"Blue\")\n",
    "House2 = Blueprint_For_House(200, \"Red\")\n",
    "\n",
    "# We can access the data in the object directly(DO NOT DO THIS, THIS IS JUST AN EXAMPLE)\n",
    "the_color_of_house_1 = House1.color\n",
    "the_size_of_house_2 = House2.size\n",
    "\n",
    "# Don't forget the string can be added together\n",
    "print(\"The color of the house1 is \" + the_color_of_house_1) \n",
    "\n",
    "# We can't simply add the string with an int, so we have to conver the int to string using str()\n",
    "print(\"The size of the house2 is \" + str(the_size_of_house_2)) \n",
    "\n",
    "# We can also change the variable inside the object (DO NOT DO THIS, THIS IS JUST AN EXAMPLE)\n",
    "House1.color = \"Yellow\"\n",
    "the_color_of_house_1 = House1.color\n",
    "print(\"The color of the house1 is \" + the_color_of_house_1) "
   ]
  },
  {
   "cell_type": "markdown",
   "metadata": {},
   "source": [
    "We can now adding the action to this house object."
   ]
  },
  {
   "cell_type": "code",
   "execution_count": 25,
   "metadata": {
    "collapsed": false
   },
   "outputs": [
    {
     "name": "stdout",
     "output_type": "stream",
     "text": [
      "The color of the house1 is Blue\n",
      "The size of the house2 is 200\n",
      "The color of the house1 is Yellow\n",
      "Purple Light is turned on\n"
     ]
    }
   ],
   "source": [
    "class Blueprint_For_House(object):\n",
    "    # Constructor \n",
    "    def __init__(self, size_of_house, color_of_house):\n",
    "        self.size = size_of_house\n",
    "        self.color = color_of_house\n",
    "        \n",
    "    # We can also pass the paramenter too\n",
    "    def turn_on_light(self, light_color):\n",
    "        print(light_color + \" Light is turned on\")\n",
    "    \n",
    "    # the way we access the variable is to have get method\n",
    "    def get_color(self):\n",
    "        return self.color\n",
    "    \n",
    "    def get_size(self):\n",
    "        return self.size\n",
    "    \n",
    "    # the way we change the variable is to have set method\n",
    "    \n",
    "    def set_color(self, color_you_want):\n",
    "        self.color = color_you_want\n",
    "    \n",
    "    def set_size(self, size_you_want):\n",
    "        self.size = size_you_want\n",
    "        \n",
    "# Now lets have the modified version.\n",
    "House1 = Blueprint_For_House(100, \"Blue\")\n",
    "House2 = Blueprint_For_House(200, \"Red\")\n",
    "\n",
    "the_color_of_house_1 = House1.get_color()\n",
    "the_size_of_house_2 = House2.get_size()\n",
    "\n",
    "print(\"The color of the house1 is \" + the_color_of_house_1) \n",
    "print(\"The size of the house2 is \" + str(the_size_of_house_2)) \n",
    "\n",
    "# Change the color of house 1 \n",
    "House1.set_color(\"Yellow\")\n",
    "\n",
    "the_color_of_house_1 = House1.get_color()\n",
    "print(\"The color of the house1 is \" + the_color_of_house_1) \n",
    "\n",
    "# Turn of the light of house 2\n",
    "House2.turn_on_light(\"Purple\")"
   ]
  },
  {
   "cell_type": "markdown",
   "metadata": {},
   "source": [
    "We called this appoach \"Encapsulation\""
   ]
  },
  {
   "cell_type": "markdown",
   "metadata": {},
   "source": [
    "We can also stores the object in lists too."
   ]
  },
  {
   "cell_type": "code",
   "execution_count": 28,
   "metadata": {
    "collapsed": false
   },
   "outputs": [
    {
     "name": "stdout",
     "output_type": "stream",
     "text": [
      "Blue\n",
      "Red\n",
      "Yellow\n"
     ]
    }
   ],
   "source": [
    "list_of_houses = [Blueprint_For_House(100, \"Blue\"), Blueprint_For_House(200, \"Red\"), \n",
    "                 Blueprint_For_House(150, \"Yellow\")]\n",
    "\n",
    "# We can loop through the list\n",
    "\n",
    "for house in list_of_houses:\n",
    "    print(house.get_color())"
   ]
  }
 ],
 "metadata": {
  "kernelspec": {
   "display_name": "Python 3",
   "language": "python",
   "name": "python3"
  },
  "language_info": {
   "codemirror_mode": {
    "name": "ipython",
    "version": 3
   },
   "file_extension": ".py",
   "mimetype": "text/x-python",
   "name": "python",
   "nbconvert_exporter": "python",
   "pygments_lexer": "ipython3",
   "version": "3.5.2"
  }
 },
 "nbformat": 4,
 "nbformat_minor": 1
}
