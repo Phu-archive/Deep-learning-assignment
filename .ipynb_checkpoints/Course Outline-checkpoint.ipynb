{
 "cells": [
  {
   "cell_type": "markdown",
   "metadata": {
    "collapsed": true
   },
   "source": [
    "# Course Assignment Outline\n",
    "\n"
   ]
  },
  {
   "cell_type": "markdown",
   "metadata": {},
   "source": [
    "# This is Markdown test for jupyter note book !!!\n",
    "\n",
    "*Italic*\n",
    "\n",
    "## List\n",
    "- test\n",
    " - subtest\n",
    " - subtest\n",
    " \n",
    "## Order list \n",
    "1. Test 1\n",
    "    1. Test 2\n",
    "    2. Test 3\n",
    "2. Test 2\n",
    "\n",
    "## Links\n",
    "\n",
    "[Google](www.google.com)\n",
    "\n",
    "https://www.youtube.com/?hl=th\n",
    "\n",
    "## Images\n",
    "\n",
    "![CNN](http://www.rsipvision.com/wp-content/uploads/2015/04/Slide5.png \"Convolutional Neural network\")\n",
    "\n",
    "## Quotes\n",
    "\n",
    "> Premature optimization is the root of all evil (or at least most of it) in programming.\n",
    ">\n",
    "> [Donald Knuth](https://en.wikiquote.org/w/index.php?title=Donald_Knuth&oldid=2176106)\n",
    "\n",
    "## Horizontal Line\n",
    "---\n",
    "\n",
    "## Tables\n",
    "\n",
    "| This | is | Table |\n",
    "| ---- |:------:|------:|\n",
    "| Test | Test 2 | Test3 |\n",
    "\n",
    "---\n",
    "\n",
    "# LATEX(For Math)\n",
    "\n",
    "$ y = x^2 $\n",
    "\n",
    "or\n",
    "\n",
    "$$ y = x^2 $$\n",
    "\n",
    "$$\\frac{x}{y}$$\n",
    "\n",
    "$$ \\pi \\approx 3.14$$\n",
    "\n",
    "$$\\sum\\limits_{x=1}^{\\infty} {1 \\over x} = 2$$\n",
    "\n",
    "$$\\prod\\limits_{i=1}^{n} x_i - 1$$\n",
    "\n",
    "$$max(S) = \\max\\limits_{i: x_i \\in \\{S\\}} x_i$$\n",
    "\n",
    "$$\\int\\limits_a^b 2x \\, dx$$"
   ]
  }
 ],
 "metadata": {
  "kernelspec": {
   "display_name": "Python 3",
   "language": "python",
   "name": "python3"
  },
  "language_info": {
   "codemirror_mode": {
    "name": "ipython",
    "version": 3
   },
   "file_extension": ".py",
   "mimetype": "text/x-python",
   "name": "python",
   "nbconvert_exporter": "python",
   "pygments_lexer": "ipython3",
   "version": "3.5.2"
  }
 },
 "nbformat": 4,
 "nbformat_minor": 1
}
